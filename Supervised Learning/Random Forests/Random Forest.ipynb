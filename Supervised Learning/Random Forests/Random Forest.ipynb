{
 "cells": [
  {
   "cell_type": "code",
   "execution_count": 47,
   "id": "ebcf4f5f",
   "metadata": {},
   "outputs": [
    {
     "name": "stdout",
     "output_type": "stream",
     "text": [
      "Best hyperparameters found by randomized search:\n",
      "{'max_depth': 7, 'min_samples_leaf': 2, 'min_samples_split': 3, 'n_estimators': 35}\n"
     ]
    }
   ],
   "source": [
    "from sklearn.ensemble import RandomForestClassifier\n",
    "from sklearn.model_selection import RandomizedSearchCV\n",
    "from sklearn.feature_selection import SelectKBest\n",
    "from sklearn.preprocessing import MinMaxScaler\n",
    "from sklearn.metrics import f1_score\n",
    "from sklearn.datasets import load_breast_cancer\n",
    "from scipy.stats import randint\n",
    "\n",
    "# Load breast cancer dataset\n",
    "data = load_breast_cancer()\n",
    "\n",
    "# Split dataset into training and testing sets\n",
    "X_train, X_test, y_train, y_test = train_test_split(data.data, data.target, test_size=0.2, random_state=0)\n",
    "\n",
    "# Scale features using MinMaxScaler\n",
    "scaler = MinMaxScaler()\n",
    "X_train = scaler.fit_transform(X_train)\n",
    "X_test = scaler.transform(X_test)\n",
    "\n",
    "# Select best features using SelectKBest\n",
    "kbest = SelectKBest(k=10)\n",
    "X_train = kbest.fit_transform(X_train, y_train)\n",
    "X_test = kbest.transform(X_test)\n",
    "\n",
    "# Define a range of hyperparameters to search over\n",
    "param_dist = {\n",
    "    'n_estimators': randint(10, 100),\n",
    "    'max_depth': [None] + list(randint(1, 10).rvs(9)),\n",
    "    'min_samples_split': randint(2, 11),\n",
    "    'min_samples_leaf': randint(1, 5)\n",
    "}\n",
    "\n",
    "# Create random forest classifier\n",
    "rfc = RandomForestClassifier()\n",
    "\n",
    "# Use randomized search to find the best hyperparameters\n",
    "clf = RandomizedSearchCV(rfc, param_distributions=param_dist, n_iter=100, cv=5, n_jobs=-1)\n",
    "clf.fit(X_train, y_train)\n",
    "\n",
    "# Print the best hyperparameters found by randomized search\n",
    "print(\"Best hyperparameters found by randomized search:\")\n",
    "print(clf.best_params_)\n",
    "\n"
   ]
  },
  {
   "cell_type": "code",
   "execution_count": 48,
   "id": "a3697c24",
   "metadata": {},
   "outputs": [
    {
     "name": "stdout",
     "output_type": "stream",
     "text": [
      "Prediction score with best hyperparameters: 96.30%\n"
     ]
    }
   ],
   "source": [
    "# Train random forest classifier on training set with best hyperparameters\n",
    "rfc_best = RandomForestClassifier(**clf.best_params_)\n",
    "rfc_best.fit(X_train, y_train)\n",
    "\n",
    "# Predict labels on testing set\n",
    "y_pred = rfc_best.predict(X_test)\n",
    "\n",
    "# Measure prediction score using F1-score\n",
    "score = f1_score(y_test, y_pred)\n",
    "print(\"Prediction score with best hyperparameters: {:.2f}%\".format(score*100))"
   ]
  },
  {
   "cell_type": "code",
   "execution_count": 50,
   "id": "d27f8386",
   "metadata": {},
   "outputs": [
    {
     "data": {
      "image/png": "[encoded data removed]",
      "text/plain": [
       "<Figure size 432x288 with 1 Axes>"
      ]
     },
     "metadata": {
      "needs_background": "light"
     },
     "output_type": "display_data"
    }
   ],
   "source": [
    "# Plot feature importances\n",
    "importances = rfc_best.feature_importances_\n",
    "std = np.std([tree.feature_importances_ for tree in rfc_best.estimators_], axis=0)\n",
    "indices = np.argsort(importances)[::-1]\n",
    "features = data.feature_names[kbest.get_support()]\n",
    "plt.figure()\n",
    "\n",
    "plt.title(\"Feature importances\")\n",
    "plt.bar(range(X_train.shape[1]), importances[indices], color=\"r\", yerr=std[indices], align=\"center\")\n",
    "plt.xticks(range(X_train.shape[1]), features[indices], rotation=90)\n",
    "plt.xlim([-1, X_train.shape[1]])\n",
    "plt.show()"
   ]
  },
  {
   "cell_type": "code",
   "execution_count": 45,
   "id": "a8068f5e",
   "metadata": {},
   "outputs": [
    {
     "data": {
      "image/png": "[encoded data removed]",
      "text/plain": [
       "<Figure size 432x288 with 2 Axes>"
      ]
     },
     "metadata": {
      "needs_background": "light"
     },
     "output_type": "display_data"
    }
   ],
   "source": [
    " # Generate confusion matrix\n",
    "cm = confusion_matrix(y_test, y_pred)\n",
    "\n",
    "# Plot confusion matrix\n",
    "sns.heatmap(cm, annot=True, cmap='Blues')\n",
    "plt.title('Confusion Matrix')\n",
    "plt.show()"
   ]
  },
  {
   "cell_type": "code",
   "execution_count": null,
   "id": "a495cafe",
   "metadata": {},
   "outputs": [],
   "source": []
  }
 ],
 "metadata": {
  "kernelspec": {
   "display_name": "Python 3 (ipykernel)",
   "language": "python",
   "name": "python3"
  },
  "language_info": {
   "codemirror_mode": {
    "name": "ipython",
    "version": 3
   },
   "file_extension": ".py",
   "mimetype": "text/x-python",
   "name": "python",
   "nbconvert_exporter": "python",
   "pygments_lexer": "ipython3",
   "version": "3.9.7"
  }
 },
 "nbformat": 4,
 "nbformat_minor": 5
}
