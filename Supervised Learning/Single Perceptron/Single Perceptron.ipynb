{
 "cells": [
  {
   "cell_type": "code",
   "execution_count": 27,
   "id": "796c8ff5",
   "metadata": {},
   "outputs": [],
   "source": [
    "from sklearn.datasets import load_breast_cancer\n",
    "from sklearn.model_selection import train_test_split\n",
    "from sklearn.preprocessing import StandardScaler\n",
    "import numpy as np\n",
    "import matplotlib.pyplot as plt\n"
   ]
  },
  {
   "cell_type": "code",
   "execution_count": 30,
   "id": "c6b1349c",
   "metadata": {},
   "outputs": [],
   "source": [
    "# Load breast cancer dataset\n",
    "data = load_breast_cancer()\n",
    "X = data.data\n",
    "y = data.target\n",
    "\n",
    "# Split dataset into training and testing sets\n",
    "X_train, X_test, y_train, y_test = train_test_split(X, y, test_size=0.2, random_state=0)\n"
   ]
  },
  {
   "cell_type": "code",
   "execution_count": 40,
   "id": "7e806200",
   "metadata": {},
   "outputs": [],
   "source": [
    "# Initialize weights and bias\n",
    "np.random.seed(0)\n",
    "w = np.random.rand(X_train_scaled.shape[1], y_train_one_hot.shape[1])\n",
    "b = np.random.rand(y_train_one_hot.shape[1])\n",
    "\n",
    "# Define hyperparameters\n",
    "lr = 0.01\n",
    "num_epochs = 10000\n",
    "lambda_reg = 0.01"
   ]
  },
  {
   "cell_type": "code",
   "execution_count": 41,
   "id": "44a876ef",
   "metadata": {},
   "outputs": [],
   "source": [
    "# Define loss function with regularization\n",
    "def loss(X, y, w, b, lambda_reg):\n",
    "    z = X.dot(w) + b\n",
    "    regularization = lambda_reg/2 * np.sum(w**2)\n",
    "    return -np.mean(y*np.log(sigmoid(z)) + (1-y)*np.log(1-sigmoid(z))) + regularization\n",
    "\n",
    "# Define gradient with regularization\n",
    "def gradient(X, y, w, b, lambda_reg):\n",
    "    z = X.dot(w) + b\n",
    "    grad_w = X.T.dot(sigmoid(z) - y) / y.size + lambda_reg * w\n",
    "    grad_b = np.mean(sigmoid(z) - y)\n",
    "    return grad_w, grad_b\n"
   ]
  },
  {
   "cell_type": "code",
   "execution_count": 42,
   "id": "5b872a4d",
   "metadata": {},
   "outputs": [
    {
     "name": "stderr",
     "output_type": "stream",
     "text": [
      "C:\\Users\\raksh\\AppData\\Local\\Temp/ipykernel_15320/3153635096.py:5: RuntimeWarning: divide by zero encountered in log\n",
      "  return -np.mean(y*np.log(sigmoid(z)) + (1-y)*np.log(1-sigmoid(z))) + regularization\n"
     ]
    }
   ],
   "source": [
    "# Train model\n",
    "train_loss_history = []\n",
    "test_loss_history = []\n",
    "for i in range(num_epochs):\n",
    "    # Compute gradients and update weights and bias\n",
    "    grad_w, grad_b = gradient(X_train_scaled, y_train_one_hot, w, b, lambda_reg)\n",
    "    w -= lr * grad_w\n",
    "    b -= lr * grad_b\n",
    "    \n",
    "    # Compute and store training loss\n",
    "    train_loss = loss(X_train_scaled, y_train_one_hot, w, b, lambda_reg)\n",
    "    train_loss_history.append(train_loss)\n",
    "    \n",
    "    # Compute and store testing loss\n",
    "    test_loss = loss(X_test_scaled, y_test_one_hot, w, b, lambda_reg)\n",
    "    test_loss_history.append(test_loss)"
   ]
  },
  {
   "cell_type": "code",
   "execution_count": 43,
   "id": "c8dc2528",
   "metadata": {},
   "outputs": [
    {
     "data": {
      "image/png": "[encoded data removed]",
      "text/plain": [
       "<Figure size 432x288 with 1 Axes>"
      ]
     },
     "metadata": {
      "needs_background": "light"
     },
     "output_type": "display_data"
    }
   ],
   "source": [
    "# Plot loss curves\n",
    "plt.plot(train_loss_history, label='Training Loss')\n",
    "plt.plot(test_loss_history, label='Testing Loss')\n",
    "plt.legend()\n",
    "plt.xlabel('Epoch')\n",
    "plt.ylabel('Loss')\n",
    "plt.show()"
   ]
  },
  {
   "cell_type": "code",
   "execution_count": 44,
   "id": "7ee9dc23",
   "metadata": {},
   "outputs": [
    {
     "name": "stdout",
     "output_type": "stream",
     "text": [
      "F1 score: 0.94752\n"
     ]
    }
   ],
   "source": [
    "\n",
    "\n",
    "# Compute F1 score\n",
    "from sklearn.metrics import f1_score\n",
    "f1score = f1_score(y_test, y_pred, average='weighted')\n",
    "print(f'F1 score: {f1score:.5f}')\n"
   ]
  },
  {
   "cell_type": "code",
   "execution_count": null,
   "id": "29b41279",
   "metadata": {},
   "outputs": [],
   "source": []
  }
 ],
 "metadata": {
  "kernelspec": {
   "display_name": "Python 3 (ipykernel)",
   "language": "python",
   "name": "python3"
  },
  "language_info": {
   "codemirror_mode": {
    "name": "ipython",
    "version": 3
   },
   "file_extension": ".py",
   "mimetype": "text/x-python",
   "name": "python",
   "nbconvert_exporter": "python",
   "pygments_lexer": "ipython3",
   "version": "3.9.7"
  }
 },
 "nbformat": 4,
 "nbformat_minor": 5
}
